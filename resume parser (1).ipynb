{
 "cells": [
  {
   "cell_type": "code",
   "execution_count": 1,
   "id": "b4ab981a",
   "metadata": {},
   "outputs": [
    {
     "name": "stdout",
     "output_type": "stream",
     "text": [
      "Requirement already satisfied: nltk in c:\\users\\91994\\anaconda3\\lib\\site-packages (3.7)\n",
      "Requirement already satisfied: click in c:\\users\\91994\\anaconda3\\lib\\site-packages (from nltk) (8.0.4)\n",
      "Requirement already satisfied: joblib in c:\\users\\91994\\anaconda3\\lib\\site-packages (from nltk) (1.2.0)\n",
      "Requirement already satisfied: regex>=2021.8.3 in c:\\users\\91994\\anaconda3\\lib\\site-packages (from nltk) (2022.7.9)\n",
      "Requirement already satisfied: tqdm in c:\\users\\91994\\anaconda3\\lib\\site-packages (from nltk) (4.65.0)\n",
      "Requirement already satisfied: colorama in c:\\users\\91994\\anaconda3\\lib\\site-packages (from click->nltk) (0.4.6)\n",
      "Requirement already satisfied: pdfplumber in c:\\users\\91994\\anaconda3\\lib\\site-packages (0.10.1)\n",
      "Requirement already satisfied: pdfminer.six==20221105 in c:\\users\\91994\\anaconda3\\lib\\site-packages (from pdfplumber) (20221105)\n",
      "Requirement already satisfied: Pillow>=9.1 in c:\\users\\91994\\anaconda3\\lib\\site-packages (from pdfplumber) (9.4.0)\n",
      "Requirement already satisfied: pypdfium2>=4.18.0 in c:\\users\\91994\\anaconda3\\lib\\site-packages (from pdfplumber) (4.18.0)\n",
      "Requirement already satisfied: charset-normalizer>=2.0.0 in c:\\users\\91994\\anaconda3\\lib\\site-packages (from pdfminer.six==20221105->pdfplumber) (2.0.4)\n",
      "Requirement already satisfied: cryptography>=36.0.0 in c:\\users\\91994\\anaconda3\\lib\\site-packages (from pdfminer.six==20221105->pdfplumber) (39.0.1)\n",
      "Requirement already satisfied: cffi>=1.12 in c:\\users\\91994\\anaconda3\\lib\\site-packages (from cryptography>=36.0.0->pdfminer.six==20221105->pdfplumber) (1.15.1)\n",
      "Requirement already satisfied: pycparser in c:\\users\\91994\\anaconda3\\lib\\site-packages (from cffi>=1.12->cryptography>=36.0.0->pdfminer.six==20221105->pdfplumber) (2.21)\n"
     ]
    }
   ],
   "source": [
    "!pip install nltk\n",
    "!pip install pdfplumber"
   ]
  },
  {
   "cell_type": "code",
   "execution_count": 2,
   "id": "1f560ec7",
   "metadata": {},
   "outputs": [
    {
     "name": "stdout",
     "output_type": "stream",
     "text": [
      "This candidate is a potential match for the job.\n"
     ]
    },
    {
     "name": "stderr",
     "output_type": "stream",
     "text": [
      "[nltk_data] Downloading package stopwords to\n",
      "[nltk_data]     C:\\Users\\91994\\AppData\\Roaming\\nltk_data...\n",
      "[nltk_data]   Package stopwords is already up-to-date!\n"
     ]
    }
   ],
   "source": [
    "import nltk\n",
    "from nltk.corpus import stopwords\n",
    "from nltk.tokenize import word_tokenize\n",
    "import pdfplumber\n",
    "\n",
    "def parse_resume(resume_path):\n",
    "    # Load NLTK resources\n",
    "    nltk.download('stopwords')\n",
    "    nltk.download('punkt', quiet=True)\n",
    "\n",
    "    # Set up stopwords\n",
    "    stop_words = set(stopwords.words('english'))\n",
    "\n",
    "    # Extract text from the resume PDF\n",
    "    with pdfplumber.open(resume_path) as pdf:\n",
    "        text = \"\"\n",
    "        for page in pdf.pages:\n",
    "            text += page.extract_text()\n",
    "\n",
    "    # Tokenize the text\n",
    "    tokens = word_tokenize(text.lower())\n",
    "\n",
    "    # Filter out stopwords\n",
    "    filtered_tokens = [token for token in tokens if token.isalnum() and token.lower() not in stop_words]\n",
    "\n",
    "    # Define the job-specific keywords\n",
    "    job_keywords = ['python', 'machine learning', 'data analysis', 'programming', 'deep learning']\n",
    "\n",
    "    # Check if the resume contains the job-specific keywords\n",
    "    matched_keywords = [keyword for keyword in job_keywords if keyword in filtered_tokens]\n",
    "\n",
    "    return len(matched_keywords) > 0\n",
    "\n",
    "# Example usage\n",
    "resume_path = 'C:\\\\Users\\\\91994\\\\OneDrive\\\\Desktop\\\\pythonprojects\\\\resume.pdf'\n",
    "is_match = parse_resume(resume_path)\n",
    "\n",
    "if is_match:\n",
    "    print(\"This candidate is a potential match for the job.\")\n",
    "else:\n",
    "    print(\"This candidate is not a match for the job.\")"
   ]
  },
  {
   "cell_type": "code",
   "execution_count": null,
   "id": "05717f63",
   "metadata": {},
   "outputs": [],
   "source": []
  }
 ],
 "metadata": {
  "kernelspec": {
   "display_name": "Python 3 (ipykernel)",
   "language": "python",
   "name": "python3"
  },
  "language_info": {
   "codemirror_mode": {
    "name": "ipython",
    "version": 3
   },
   "file_extension": ".py",
   "mimetype": "text/x-python",
   "name": "python",
   "nbconvert_exporter": "python",
   "pygments_lexer": "ipython3",
   "version": "3.11.3"
  }
 },
 "nbformat": 4,
 "nbformat_minor": 5
}
